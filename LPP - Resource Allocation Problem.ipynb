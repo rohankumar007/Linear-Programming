{
 "cells": [
  {
   "cell_type": "markdown",
   "id": "frozen-packaging",
   "metadata": {},
   "source": [
    "# Resource Allocation Problem\n",
    "\n",
    "Say that a factory produces four different products, and that the daily produced amount of the first product is `x1`, the amount produced of the second product is `x2`, and so on. The goal is to determine the profit-maximizing daily production amount for each product, bearing in mind the following conditions:\n",
    "\n",
    "* The profit per unit of product is Rs 20, Rs 12, Rs 40, and Rs 25 for the first, second, third, and fourth product, respectively.\n",
    "\n",
    "* Due to manpower constraints, the total number of units produced per day can’t exceed fifty.\n",
    "\n",
    "* For each unit of the first product, three units of the raw material A are consumed. Each unit of the second product requires two units of the raw material A and one unit of the raw material B. Each unit of the third product needs one unit of A and two units of B. Finally, each unit of the fourth product requires three units of B.\n",
    "\n",
    "* Due to the transportation and storage constraints, the factory can consume up to one hundred units of the raw material A and ninety units of B per day.\n",
    "\n",
    "## Simplying above seneario into LPP\n",
    "**Objective funtion**, Maximize z = 20(x1) + 12(x2) + 40(x3) + 25(x4)\n",
    "\n",
    "Constraints:\n",
    "1. **ManPower Contraints:** x1 + x2 + x3 + x4 <=50\n",
    "2. **Raw Material A Constraints:** 3(x1) + 2(x2) + x3 <=100\n",
    "3. **Raw Material B Constraints:** x2 + 2(x3) + 3(x4) <= 90\n",
    "4. **Positive Constraints:** x1, x2, x3, x4 >=0"
   ]
  },
  {
   "cell_type": "code",
   "execution_count": 11,
   "id": "dress-triple",
   "metadata": {},
   "outputs": [],
   "source": [
    "# importing from pulp library\n",
    "import pulp as p\n",
    "from pulp import LpProblem, LpMaximize, lpSum, LpVariable, LpStatus"
   ]
  },
  {
   "cell_type": "code",
   "execution_count": 2,
   "id": "earned-bidding",
   "metadata": {},
   "outputs": [],
   "source": [
    "# creating lpp problem\n",
    "lp_prob = LpProblem(\"Resource_Allocation_Problem\", LpMaximize)"
   ]
  },
  {
   "cell_type": "code",
   "execution_count": 3,
   "id": "smoking-trader",
   "metadata": {},
   "outputs": [],
   "source": [
    "# Initializing variables statisfing positive constraints\n",
    "x1 = LpVariable('Product-1', lowBound = 0, cat = \"Integer\")\n",
    "x2 = LpVariable('Product-2', lowBound = 0, cat = \"Integer\")\n",
    "x3 = LpVariable('Product-3', lowBound = 0, cat = \"Integer\")\n",
    "x4 = LpVariable('Product-4', lowBound = 0, cat = \"Integer\")"
   ]
  },
  {
   "cell_type": "code",
   "execution_count": 5,
   "id": "compound-metadata",
   "metadata": {},
   "outputs": [],
   "source": [
    "# Adding Objective Function\n",
    "lp_prob += lpSum([20*x1, 12*x2, 40*x3, 25*x4])"
   ]
  },
  {
   "cell_type": "code",
   "execution_count": 6,
   "id": "paperback-faculty",
   "metadata": {},
   "outputs": [],
   "source": [
    "# Adding Constraints\n",
    "lp_prob += ( x1 + x2 + x3 + x4 <=50, \"MonPower Constraint\" )\n",
    "lp_prob += ( 3*(x1) + 2*(x2) + x3 <=100, \"raw material A\" )\n",
    "lp_prob += ( x2 + 2*(x3) + 3*(x4) <=90, \"raw material B\" )"
   ]
  },
  {
   "cell_type": "code",
   "execution_count": 7,
   "id": "manual-smith",
   "metadata": {},
   "outputs": [
    {
     "name": "stdout",
     "output_type": "stream",
     "text": [
      "Resource_Allocation_Problem:\n",
      "MAXIMIZE\n",
      "20*Product_1 + 12*Product_2 + 40*Product_3 + 25*Product_4 + 0\n",
      "SUBJECT TO\n",
      "MonPower_Constraint: Product_1 + Product_2 + Product_3 + Product_4 <= 50\n",
      "\n",
      "raw_material_A: 3 Product_1 + 2 Product_2 + Product_3 <= 100\n",
      "\n",
      "raw_material_B: Product_2 + 2 Product_3 + 3 Product_4 <= 90\n",
      "\n",
      "VARIABLES\n",
      "0 <= Product_1 Integer\n",
      "0 <= Product_2 Integer\n",
      "0 <= Product_3 Integer\n",
      "0 <= Product_4 Integer\n",
      "\n"
     ]
    }
   ],
   "source": [
    "print(lp_prob)"
   ]
  },
  {
   "cell_type": "code",
   "execution_count": 8,
   "id": "quiet-cleanup",
   "metadata": {},
   "outputs": [
    {
     "name": "stdout",
     "output_type": "stream",
     "text": [
      "Optimal\n"
     ]
    }
   ],
   "source": [
    "status = LpStatus[lp_prob.solve()]\n",
    "print(status)"
   ]
  },
  {
   "cell_type": "code",
   "execution_count": 13,
   "id": "widespread-northern",
   "metadata": {},
   "outputs": [
    {
     "name": "stdout",
     "output_type": "stream",
     "text": [
      "x1 = 5.0, x2 = 0.0, x3 = 45.0 and x4 = 0.0\n"
     ]
    }
   ],
   "source": [
    "print(f'x1 = {p.value(x1)}, x2 = {p.value(x2)}, x3 = {p.value(x3)} and x4 = {p.value(x4)}')"
   ]
  },
  {
   "cell_type": "code",
   "execution_count": 16,
   "id": "color-stationery",
   "metadata": {},
   "outputs": [
    {
     "name": "stdout",
     "output_type": "stream",
     "text": [
      "z = 1900.0\n"
     ]
    }
   ],
   "source": [
    "print(f'z = {p.value(lp_prob.objective)}')"
   ]
  },
  {
   "cell_type": "code",
   "execution_count": 18,
   "id": "lesbian-tunisia",
   "metadata": {},
   "outputs": [
    {
     "name": "stdout",
     "output_type": "stream",
     "text": [
      "MonPower_Constraint: 0.0\n",
      "raw_material_A: -40.0\n",
      "raw_material_B: 0.0\n"
     ]
    }
   ],
   "source": [
    "for name, constraint in lp_prob.constraints.items():\n",
    "    print(f\"{name}: {constraint.value()}\")"
   ]
  },
  {
   "cell_type": "markdown",
   "id": "rational-arnold",
   "metadata": {},
   "source": [
    "This means no more manpower left. Also raw material B is all used up while raw material A is left 40 units."
   ]
  }
 ],
 "metadata": {
  "kernelspec": {
   "display_name": "Python 3",
   "language": "python",
   "name": "python3"
  },
  "language_info": {
   "codemirror_mode": {
    "name": "ipython",
    "version": 3
   },
   "file_extension": ".py",
   "mimetype": "text/x-python",
   "name": "python",
   "nbconvert_exporter": "python",
   "pygments_lexer": "ipython3",
   "version": "3.9.2"
  }
 },
 "nbformat": 4,
 "nbformat_minor": 5
}
