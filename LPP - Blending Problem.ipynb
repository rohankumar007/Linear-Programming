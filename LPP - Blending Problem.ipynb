{
 "cells": [
  {
   "cell_type": "markdown",
   "id": "expected-macintosh",
   "metadata": {},
   "source": [
    "# Blending Problem\n",
    "\n",
    "We’re going to make some sausages!\n",
    "\n",
    "We have the following ingredients available to us:\n",
    "\n",
    "| **Ingredient** | **Cost (€/kg)** | **Availability (kg)** |\n",
    "| --- | --- |--- |\n",
    "| Pork | 4.32 | 30 |\n",
    "| Wheat\t| 2.46 | 20 |\n",
    "| Starch | 1.86\t| 17 |\n",
    "\n",
    "We’ll make 2 types of sausage:\n",
    "* Economy (>40% Pork)\n",
    "* Premium (>60% Pork)\n",
    "\n",
    "One sausage is 50 grams (0.05 kg).\n",
    "\n",
    "According to government regulations, the most starch we can use in our sausages is 25%.\n",
    "\n",
    "We have a contract with a butcher, and have already purchased 23 kg pork, that must go in our sausages.\n",
    "\n",
    "We have a demand for 350 economy sausages and 500 premium sausages.\n",
    "\n",
    "We need to figure out how to most cost effectively blend our sausages."
   ]
  },
  {
   "cell_type": "markdown",
   "id": "extraordinary-grill",
   "metadata": {},
   "source": [
    "# Modelling Problem\n",
    "\n",
    "Let’s model our problem.\n",
    "\n",
    "**Variables**\n",
    "\n",
    "* Pork in Economy Sausage in kg = p1\n",
    "* Wheat in Economy Sausage in kg = w1\n",
    "* Starch in Economy Sausage in kg = s1\n",
    "* Pork in Premium Sausage in kg = p2\n",
    "* Wheat in Premium Sausage in kg = w2\n",
    "* Starch in Premium Sausage in kg = s2\n",
    "\n",
    "**Objective function:** We want to minimize sausage manufacturing cost.\n",
    "\n",
    "Minimize z = 4.32 (p1 + p2) + 2.46 (w1 + w2) + 1.86 (s1 + s2)\n",
    "\n",
    "**Constraints:**\n",
    "\n",
    "| Constraints | Reasons |\n",
    "| :- | :- |\n",
    "| p1 + w1 + s1 = 350×(0.05) | 350 economy sausage demand |\n",
    "| p2 + w2 + s2 = 500×(0.05) | 500 premium sausage demand |\n",
    "| p1 > 0.4×(p1 + w1 + s1) | pork in economy sausage should be greater than 40% |\n",
    "| p2 > 0.6×(p2 + w2 + s2) | pork in premium sausage should be greater than 60% |\n",
    "| s1 <= 0.25×(p1 + w1 + s1) | atmost 25% starch can be used |\n",
    "| s2 <= 0.25×(p2 + w2 + s2) | atmost 25% starch can be used |\n",
    "| p1 + p2 >= 23 | 23 Kg pork has been already purchased |\n",
    "| p1 + p2 <= 30 | pork availability |\n",
    "| w1 + w2 <= 20 | wheat availability |\n",
    "| s1 + s2 <= 17 | starch availability |"
   ]
  },
  {
   "cell_type": "markdown",
   "id": "driving-insurance",
   "metadata": {},
   "source": [
    "# Solving LPP"
   ]
  },
  {
   "cell_type": "code",
   "execution_count": 1,
   "id": "latter-baking",
   "metadata": {},
   "outputs": [],
   "source": [
    "import pulp as p"
   ]
  },
  {
   "cell_type": "code",
   "execution_count": 2,
   "id": "diagnostic-wiring",
   "metadata": {},
   "outputs": [],
   "source": [
    "# initiating model instance\n",
    "model = p.LpProblem(\"Cost-Minimizing-Blending-Problem\", sense = p.LpMinimize)"
   ]
  },
  {
   "cell_type": "code",
   "execution_count": 3,
   "id": "naval-drink",
   "metadata": {},
   "outputs": [],
   "source": [
    "# type of sausage\n",
    "s_type = ['economy', 'premium']\n",
    "\n",
    "# ingredients\n",
    "s_ingre = ['pork', 'wheat', 'starch'] \n",
    "\n",
    "# defining weight variables\n",
    "weight = p.LpVariable.dicts(\"Weight_kg\",\n",
    "                            ((i,j) for i in s_type for j in s_ingre),\n",
    "                            lowBound = 0)"
   ]
  },
  {
   "cell_type": "code",
   "execution_count": 4,
   "id": "appreciated-method",
   "metadata": {},
   "outputs": [],
   "source": [
    "# Objective Function\n",
    "model += (\n",
    "            p.lpSum([\n",
    "                        4.32*weight[i,'pork']\n",
    "                        + 2.46*weight[i,'wheat']\n",
    "                        + 1.86*weight[i,'starch']\n",
    "                        for i in s_type\n",
    "                    ])\n",
    "         )"
   ]
  },
  {
   "cell_type": "code",
   "execution_count": 5,
   "id": "continuous-triple",
   "metadata": {},
   "outputs": [],
   "source": [
    "# Adding constraints\n",
    "model += p.lpSum([weight['economy', j] for j in s_ingre]) == 350*0.05\n",
    "model += p.lpSum([weight['premium', j] for j in s_ingre]) == 500*0.05\n",
    "\n",
    "model += weight['economy','pork'] >= 0.4*(p.lpSum([weight['economy', j] for j in s_ingre]))\n",
    "model += weight['premium','pork'] >= 0.6*(p.lpSum([weight['premium', j] for j in s_ingre]))\n",
    "\n",
    "model += weight['economy','starch'] <= 0.25*(p.lpSum([weight['economy', j] for j in s_ingre]))\n",
    "model += weight['premium','starch'] <= 0.25*(p.lpSum([weight['premium', j] for j in s_ingre]))\n",
    "\n",
    "model += p.lpSum([weight[i,'pork'] for i in s_type]) >=23\n",
    "model += p.lpSum([weight[i,'pork'] for i in s_type]) <=30\n",
    "model += p.lpSum([weight[i,'wheat'] for i in s_type]) <=20\n",
    "model += p.lpSum([weight[i,'starch'] for i in s_type]) <=17"
   ]
  },
  {
   "cell_type": "code",
   "execution_count": 6,
   "id": "forward-beatles",
   "metadata": {},
   "outputs": [
    {
     "name": "stdout",
     "output_type": "stream",
     "text": [
      "Cost-Minimizing-Blending-Problem:\n",
      "MINIMIZE\n",
      "4.32*Weight_kg_('economy',_'pork') + 1.86*Weight_kg_('economy',_'starch') + 2.46*Weight_kg_('economy',_'wheat') + 4.32*Weight_kg_('premium',_'pork') + 1.86*Weight_kg_('premium',_'starch') + 2.46*Weight_kg_('premium',_'wheat') + 0.0\n",
      "SUBJECT TO\n",
      "_C1: Weight_kg_('economy',_'pork') + Weight_kg_('economy',_'starch')\n",
      " + Weight_kg_('economy',_'wheat') = 17.5\n",
      "\n",
      "_C2: Weight_kg_('premium',_'pork') + Weight_kg_('premium',_'starch')\n",
      " + Weight_kg_('premium',_'wheat') = 25\n",
      "\n",
      "_C3: 0.6 Weight_kg_('economy',_'pork') - 0.4 Weight_kg_('economy',_'starch')\n",
      " - 0.4 Weight_kg_('economy',_'wheat') >= 0\n",
      "\n",
      "_C4: 0.4 Weight_kg_('premium',_'pork') - 0.6 Weight_kg_('premium',_'starch')\n",
      " - 0.6 Weight_kg_('premium',_'wheat') >= 0\n",
      "\n",
      "_C5: - 0.25 Weight_kg_('economy',_'pork')\n",
      " + 0.75 Weight_kg_('economy',_'starch') - 0.25 Weight_kg_('economy',_'wheat')\n",
      " <= 0\n",
      "\n",
      "_C6: - 0.25 Weight_kg_('premium',_'pork')\n",
      " + 0.75 Weight_kg_('premium',_'starch') - 0.25 Weight_kg_('premium',_'wheat')\n",
      " <= 0\n",
      "\n",
      "_C7: Weight_kg_('economy',_'pork') + Weight_kg_('premium',_'pork') >= 23\n",
      "\n",
      "_C8: Weight_kg_('economy',_'pork') + Weight_kg_('premium',_'pork') <= 30\n",
      "\n",
      "_C9: Weight_kg_('economy',_'wheat') + Weight_kg_('premium',_'wheat') <= 20\n",
      "\n",
      "_C10: Weight_kg_('economy',_'starch') + Weight_kg_('premium',_'starch') <= 17\n",
      "\n",
      "VARIABLES\n",
      "Weight_kg_('economy',_'pork') Continuous\n",
      "Weight_kg_('economy',_'starch') Continuous\n",
      "Weight_kg_('economy',_'wheat') Continuous\n",
      "Weight_kg_('premium',_'pork') Continuous\n",
      "Weight_kg_('premium',_'starch') Continuous\n",
      "Weight_kg_('premium',_'wheat') Continuous\n",
      "\n"
     ]
    }
   ],
   "source": [
    "# printing problem\n",
    "print(model)"
   ]
  },
  {
   "cell_type": "code",
   "execution_count": 7,
   "id": "stone-indie",
   "metadata": {},
   "outputs": [
    {
     "name": "stdout",
     "output_type": "stream",
     "text": [
      "Optimal\n"
     ]
    }
   ],
   "source": [
    "# model status\n",
    "status = p.LpStatus[model.solve()]\n",
    "print(status)"
   ]
  },
  {
   "cell_type": "code",
   "execution_count": 8,
   "id": "similar-guarantee",
   "metadata": {},
   "outputs": [
    {
     "name": "stdout",
     "output_type": "stream",
     "text": [
      "In economy sausage, weight of pork used = 7.0 Kg\n",
      "In economy sausage, weight of wheat used = 6.125 Kg\n",
      "In economy sausage, weight of starch used = 4.375 Kg\n",
      "In premium sausage, weight of pork used = 16.0 Kg\n",
      "In premium sausage, weight of wheat used = 2.75 Kg\n",
      "In premium sausage, weight of starch used = 6.25 Kg\n"
     ]
    }
   ],
   "source": [
    "for var in weight:\n",
    "    print(f'In {var[0]} sausage, weight of {var[1]} used = {weight[var].varValue} Kg')"
   ]
  },
  {
   "cell_type": "code",
   "execution_count": 12,
   "id": "realistic-tablet",
   "metadata": {},
   "outputs": [
    {
     "name": "stdout",
     "output_type": "stream",
     "text": [
      "The minimised cost of production = €140.955\n"
     ]
    }
   ],
   "source": [
    "print(f'The minimised cost of production = €{p.value(model.objective)}')"
   ]
  }
 ],
 "metadata": {
  "kernelspec": {
   "display_name": "Python 3",
   "language": "python",
   "name": "python3"
  },
  "language_info": {
   "codemirror_mode": {
    "name": "ipython",
    "version": 3
   },
   "file_extension": ".py",
   "mimetype": "text/x-python",
   "name": "python",
   "nbconvert_exporter": "python",
   "pygments_lexer": "ipython3",
   "version": "3.9.2"
  }
 },
 "nbformat": 4,
 "nbformat_minor": 5
}
