{
 "cells": [
  {
   "cell_type": "markdown",
   "id": "hazardous-owner",
   "metadata": {},
   "source": [
    "# Linear Programming using Pulp\n",
    "Minimize :  Z = 3x + 5y\n",
    "\n",
    "\n",
    "Subject to the constraints: \n",
    "\n",
    "2x + 3y >= 12\n",
    "\n",
    "-x + y <= 3\n",
    "\n",
    "x >= 4\n",
    "\n",
    "y <= 3\n",
    "\n",
    "x, y >= 0"
   ]
  },
  {
   "cell_type": "code",
   "execution_count": 2,
   "id": "linear-miami",
   "metadata": {},
   "outputs": [],
   "source": [
    "# importing pulp library\n",
    "import pulp as p\n",
    "\n",
    "# creating Lp Minimization Problem\n",
    "lp_prob = p.LpProblem(\"Problem\", p.LpMinimize)\n",
    "\n",
    "# creating variables\n",
    "x = p.LpVariable('x', lowBound=0)  # x>=0\n",
    "y = p.LpVariable('y', lowBound=0)  # y>=0\n",
    "\n",
    "# specifying objective functions\n",
    "lp_prob += 3*x + 5*y\n",
    "\n",
    "# adding constraints\n",
    "lp_prob += 2*x + 3*y >=12\n",
    "lp_prob += -x + y <=3\n",
    "lp_prob += x >=4\n",
    "lp_prob += y <=3"
   ]
  },
  {
   "cell_type": "code",
   "execution_count": 3,
   "id": "occupational-affect",
   "metadata": {},
   "outputs": [
    {
     "name": "stdout",
     "output_type": "stream",
     "text": [
      "Problem:\n",
      "MINIMIZE\n",
      "3*x + 5*y + 0\n",
      "SUBJECT TO\n",
      "_C1: 2 x + 3 y >= 12\n",
      "\n",
      "_C2: - x + y <= 3\n",
      "\n",
      "_C3: x >= 4\n",
      "\n",
      "_C4: y <= 3\n",
      "\n",
      "VARIABLES\n",
      "x Continuous\n",
      "y Continuous\n",
      "\n"
     ]
    }
   ],
   "source": [
    "# Displaying Problem\n",
    "print(lp_prob)"
   ]
  },
  {
   "cell_type": "code",
   "execution_count": 5,
   "id": "nominated-brain",
   "metadata": {},
   "outputs": [
    {
     "name": "stdout",
     "output_type": "stream",
     "text": [
      "Optimal\n"
     ]
    }
   ],
   "source": [
    "# printing status of the problem\n",
    "status = lp_prob.solve()\n",
    "print(p.LpStatus[status])"
   ]
  },
  {
   "cell_type": "code",
   "execution_count": 8,
   "id": "ongoing-initial",
   "metadata": {},
   "outputs": [
    {
     "name": "stdout",
     "output_type": "stream",
     "text": [
      "x = 6.0, y = 0.0 and objective = 18.0\n"
     ]
    }
   ],
   "source": [
    "# printing solution\n",
    "print(f'x = {p.value(x)}, y = {p.value(y)} and objective = {p.value(lp_prob.objective)}')"
   ]
  }
 ],
 "metadata": {
  "kernelspec": {
   "display_name": "Python 3",
   "language": "python",
   "name": "python3"
  },
  "language_info": {
   "codemirror_mode": {
    "name": "ipython",
    "version": 3
   },
   "file_extension": ".py",
   "mimetype": "text/x-python",
   "name": "python",
   "nbconvert_exporter": "python",
   "pygments_lexer": "ipython3",
   "version": "3.9.2"
  }
 },
 "nbformat": 4,
 "nbformat_minor": 5
}
